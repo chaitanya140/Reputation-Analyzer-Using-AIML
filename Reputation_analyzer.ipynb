{
  "cells": [
    {
      "cell_type": "code",
      "execution_count": 19,
      "metadata": {
        "colab": {
          "base_uri": "https://localhost:8080/"
        },
        "id": "DW62lsnscngm",
        "outputId": "d057b437-857b-4d87-fb9e-2fb88aaf6590"
      },
      "outputs": [
        {
          "output_type": "stream",
          "name": "stdout",
          "text": [
            "Requirement already satisfied: beautifulsoup4 in /usr/local/lib/python3.10/dist-packages (4.12.3)\n",
            "Requirement already satisfied: soupsieve>1.2 in /usr/local/lib/python3.10/dist-packages (from beautifulsoup4) (2.5)\n",
            "Enter your Google search query: Paytm Bank is Close ?\n",
            "Top search results:\n",
            "                                                 title  \\\n",
            "0    Paytm Payments Bank closure on March 15 will l...   \n",
            "1    Paytm Payments Bank to close from March 15. He...   \n",
            "2      Paytm Payments Bank To Shut Down After March 15   \n",
            "3    What will happen to my Paytm Payment Bank Acco...   \n",
            "4    Paytm Payments Bank closes today: What happens...   \n",
            "..                                                 ...   \n",
            "155                                       Paytm Hiring   \n",
            "156  Online Movie Ticket Booking, Showtimes in Chennai   \n",
            "157  Online Movie Ticket Booking, Showtimes in Udum...   \n",
            "158  Current Affairs June 2017 eBook - Page 90 - Go...   \n",
            "159                           Paytm Investor Relations   \n",
            "\n",
            "                                                  link  \n",
            "0    https://m.economictimes.com/industry/banking/f...  \n",
            "1    https://www.livemint.com/companies/news/paytm-...  \n",
            "2    https://www.ndtv.com/india-news/paytm-payments...  \n",
            "3    https://paytm.com/important-updates/what-will-...  \n",
            "4    https://www.hindustantimes.com/business/paytm-...  \n",
            "..                                                 ...  \n",
            "155    https://paytm.com/offer/hiring-sales-associates  \n",
            "156                   https://paytm.com/movies/chennai  \n",
            "157                 https://paytm.com/movies/udumalpet  \n",
            "158  https://books.google.com/books?id=CBImDwAAQBAJ...  \n",
            "159                              https://ir.paytm.com/  \n",
            "\n",
            "[160 rows x 2 columns]\n",
            "Results saved to GoogleResults.csv and GoogleResults.txt.\n"
          ]
        }
      ],
      "source": [
        "!pip install beautifulsoup4\n",
        "\n",
        "from bs4 import BeautifulSoup\n",
        "import requests\n",
        "import pandas as pd\n",
        "\n",
        "def simpleGoogleSearch(query, start):\n",
        "    results = []\n",
        "\n",
        "    query = query.replace(' ', '+')\n",
        "    URL = f\"https://www.google.com/search?q={query}&start={start}\"\n",
        "\n",
        "    # Latest Chrome user-agent\n",
        "    headers = {\n",
        "        \"user-agent\": \"Mozilla/5.0 (Windows NT 10.0; Win64; x64) AppleWebKit/537.36 (KHTML, like Gecko) Chrome/98.0.4758.102 Safari/537.36\"\n",
        "    }\n",
        "    resp = requests.get(URL, headers=headers)\n",
        "\n",
        "    if resp.status_code == 200:\n",
        "        soup = BeautifulSoup(resp.content, \"html.parser\")\n",
        "\n",
        "        for g in soup.find_all('div', class_='tF2Cxc'):\n",
        "            anchors = g.find_all('a')\n",
        "\n",
        "            if anchors:\n",
        "                link = anchors[0]['href']\n",
        "                title = g.find('h3').text\n",
        "                item = {\"title\": title, \"link\": link}\n",
        "                results.append(item)\n",
        "\n",
        "    return results\n",
        "\n",
        "def googleToPandas(googleQuery):\n",
        "    resultsCounter = 0\n",
        "    resultsList = []\n",
        "\n",
        "    while True:\n",
        "        pageResults = simpleGoogleSearch(googleQuery, resultsCounter)\n",
        "\n",
        "        if not pageResults:\n",
        "            break\n",
        "        else:\n",
        "            resultsList.extend(pageResults)\n",
        "            resultsCounter += 10\n",
        "\n",
        "    return pd.DataFrame(resultsList)\n",
        "\n",
        "googleSearchQuery = input(\"Enter your Google search query: \")\n",
        "results = googleToPandas(googleSearchQuery)\n",
        "\n",
        "if not results.empty:\n",
        "    print(\"Top search results:\")\n",
        "    print(results)\n",
        "\n",
        "    # Output data to CSV file\n",
        "    results.to_csv('GoogleResults.csv', index=False)\n",
        "\n",
        "    # Output data to TXT file\n",
        "    with open('GoogleResults.txt', 'w') as f:\n",
        "        for index, row in results.iterrows():\n",
        "            f.write(f\"{row['title']}: {row['link']}\\n\")\n",
        "\n",
        "    print(\"Results saved to GoogleResults.csv and GoogleResults.txt.\")\n",
        "else:\n",
        "    print(\"No search results found.\")\n"
      ]
    },
    {
      "cell_type": "code",
      "execution_count": null,
      "metadata": {
        "id": "uIaJrFO5Eu95",
        "outputId": "ca4d27a0-c67e-4737-c244-8b2bc4ccbfe6",
        "colab": {
          "base_uri": "https://localhost:8080/"
        }
      },
      "outputs": [
        {
          "output_type": "stream",
          "name": "stdout",
          "text": [
            "Failed to fetch https://www.business-standard.com/companies/news/paytm-has-completed-migration-of-all-merchants-to-yes-bank-ceo-sharma-124042201006_1.html. Status code: 403\n",
            "Failed to fetch https://inc42.com/buzz/regulatory-curbs-on-paytm-bank-puts-its-wallet-business-in-slow-lane/. Status code: 201\n",
            "Failed to fetch https://www.reuters.com/technology/indias-paytm-up-after-payments-authority-grants-third-party-app-license-2024-03-15/. Status code: 401\n",
            "Content from article links saved to GoogleResults_Content.txt.\n"
          ]
        }
      ],
      "source": [
        "import requests\n",
        "from bs4 import BeautifulSoup\n",
        "\n",
        "def fetch_article_text(url):\n",
        "    try:\n",
        "        response = requests.get(url)\n",
        "        if response.status_code == 200:\n",
        "            soup = BeautifulSoup(response.content, \"html.parser\")\n",
        "            # Find and concatenate all text elements\n",
        "            text_elements = soup.find_all(['p', 'h1', 'h2', 'h3', 'h4', 'h5', 'h6'])\n",
        "            text = ' '.join(element.get_text() for element in text_elements)\n",
        "            return text\n",
        "        else:\n",
        "            print(f\"Failed to fetch {url}. Status code: {response.status_code}\")\n",
        "    except Exception as e:\n",
        "        print(f\"Error fetching {url}: {e}\")\n",
        "    return None\n",
        "\n",
        "# Let's assume you already have the DataFrame 'results' from the previous code\n",
        "\n",
        "# Output data to TXT file with only text content\n",
        "with open('/content/GoogleResults.txt', 'w', encoding='utf-8') as f:\n",
        "    for index, row in results.iterrows():\n",
        "        url = row['link']\n",
        "        article_text = fetch_article_text(url)\n",
        "        if article_text:\n",
        "            f.write(f\"Title: {row['title']}\\n\")\n",
        "            f.write(f\"URL: {url}\\n\")\n",
        "            f.write(article_text + \"\\n\\n\")\n",
        "        else:\n",
        "            f.write(f\"Failed to fetch content from: {url}\\n\\n\")\n",
        "\n",
        "print(\"Content from article links saved to GoogleResults_Content.txt.\")"
      ]
    },
    {
      "cell_type": "code",
      "execution_count": 21,
      "metadata": {
        "colab": {
          "base_uri": "https://localhost:8080/",
          "height": 576
        },
        "id": "yiZyAXhBfLj6",
        "outputId": "370d2565-66d5-4e3a-94e1-cfd2bb372a6d"
      },
      "outputs": [
        {
          "output_type": "stream",
          "name": "stdout",
          "text": [
            "Requirement already satisfied: vaderSentiment in /usr/local/lib/python3.10/dist-packages (3.3.2)\n",
            "Requirement already satisfied: requests in /usr/local/lib/python3.10/dist-packages (from vaderSentiment) (2.31.0)\n",
            "Requirement already satisfied: charset-normalizer<4,>=2 in /usr/local/lib/python3.10/dist-packages (from requests->vaderSentiment) (3.3.2)\n",
            "Requirement already satisfied: idna<4,>=2.5 in /usr/local/lib/python3.10/dist-packages (from requests->vaderSentiment) (3.7)\n",
            "Requirement already satisfied: urllib3<3,>=1.21.1 in /usr/local/lib/python3.10/dist-packages (from requests->vaderSentiment) (2.0.7)\n",
            "Requirement already satisfied: certifi>=2017.4.17 in /usr/local/lib/python3.10/dist-packages (from requests->vaderSentiment) (2024.2.2)\n"
          ]
        },
        {
          "output_type": "display_data",
          "data": {
            "text/plain": [
              "<Figure size 640x480 with 1 Axes>"
            ],
            "image/png": "[encoded data removed]"
          },
          "metadata": {}
        }
      ],
      "source": [
        "!pip install vaderSentiment\n",
        "from vaderSentiment.vaderSentiment import SentimentIntensityAnalyzer\n",
        "import matplotlib.pyplot as plt\n",
        "import numpy as np\n",
        "\n",
        "# Initialize the SentimentIntensityAnalyzer\n",
        "analyzer = SentimentIntensityAnalyzer()\n",
        "\n",
        "# Read text from a file\n",
        "def read_text_from_file(file_path):\n",
        "    with open(file_path, 'r') as file:\n",
        "        text = file.read()\n",
        "    return text\n",
        "\n",
        "# File path\n",
        "file_path = '/content/GoogleResults.txt'\n",
        "\n",
        "# Read text from the file\n",
        "input_text = read_text_from_file(file_path)\n",
        "\n",
        "# Perform sentiment analysis on the input text\n",
        "sentiment = analyzer.polarity_scores(input_text)\n",
        "\n",
        "# Extract compound scores\n",
        "compound_scores = sentiment['compound']\n",
        "\n",
        "# Map compound scores from the range -1 to 1 to the range 1 to 10\n",
        "mapped_scores = np.interp(compound_scores, (-1, 1), (1, 10))\n",
        "\n",
        "# Categorize sentiment scores into bins\n",
        "bins = [1, 3, 5, 7, 9, 11]  # define bin edges\n",
        "bin_labels = ['1-3', '3-5', '5-7', '7-9', '9-10']  # define bin labels\n",
        "category = np.digitize(mapped_scores, bins, right=True)\n",
        "\n",
        "# Count frequencies of scores in each bin\n",
        "frequency = [np.sum(category == i) for i in range(1, len(bins))]\n",
        "\n",
        "# Plot stacked column chart\n",
        "plt.bar(bin_labels, frequency, color='skyblue')\n",
        "plt.xlabel('Sentiment Score Range')\n",
        "plt.ylabel('Frequency')\n",
        "plt.title('Stacked Column Chart of Sentiment Scores')\n",
        "plt.show()\n"
      ]
    },
    {
      "cell_type": "code",
      "source": [
        "from transformers import AutoTokenizer, AutoModelForSequenceClassification\n",
        "from scipy.special import softmax\n",
        "import pandas as pd\n",
        "import matplotlib.pyplot as plt\n",
        "import numpy as np\n",
        "\n",
        "def perform_sentiment_analysis(tweet):\n",
        "    tweet_words = []\n",
        "\n",
        "    for word in tweet.split(' '):\n",
        "        if word.startswith('@') and len(word) > 1:\n",
        "            word = '@user'\n",
        "        elif word.startswith('http'):\n",
        "            word = \"http\"\n",
        "        tweet_words.append(word)\n",
        "\n",
        "    tweet_proc = \" \".join(tweet_words)\n",
        "\n",
        "    # load model and tokenizer\n",
        "    roberta = \"cardiffnlp/twitter-roberta-base-sentiment\"\n",
        "    model = AutoModelForSequenceClassification.from_pretrained(roberta)\n",
        "    tokenizer = AutoTokenizer.from_pretrained(roberta)\n",
        "\n",
        "    labels = ['Negative', 'Neutral', 'Positive']\n",
        "\n",
        "    # sentiment analysis\n",
        "    encoded_tweet = tokenizer(tweet_proc, return_tensors='pt')\n",
        "    output = model(**encoded_tweet)\n",
        "\n",
        "    scores = output[0][0].detach().numpy()\n",
        "    scores = softmax(scores)\n",
        "\n",
        "    results = {label: score for label, score in zip(labels, scores)}\n",
        "    return results\n",
        "\n",
        "# Read text from a file\n",
        "def read_text_from_file(file_path):\n",
        "    with open(file_path, 'r') as file:\n",
        "        lines = file.readlines()\n",
        "    return lines\n",
        "\n",
        "# Map sentiment scores to range 1-10\n",
        "def map_to_range(scores):\n",
        "    return 1 + (scores - np.min(scores)) * 9 / (np.max(scores) - np.min(scores))\n",
        "\n",
        "# File path\n",
        "file_path = '/content/GoogleResults.txt'  # Update with your file path\n",
        "\n",
        "# Read text from the file\n",
        "lines = read_text_from_file(file_path)\n",
        "\n",
        "# Perform sentiment analysis on each line\n",
        "results = []\n",
        "for line in lines:\n",
        "    line = line.strip()  # Remove leading/trailing whitespace\n",
        "    if line:  # Skip empty lines\n",
        "        result = perform_sentiment_analysis(line)\n",
        "        results.append(result)\n",
        "\n",
        "# Convert results to DataFrame for easier manipulation and analysis\n",
        "df = pd.DataFrame(results)\n",
        "\n",
        "# Calculate average sentiment scores\n",
        "avg_scores = df.mean()\n",
        "\n",
        "# Map average scores to range 1-10\n",
        "mapped_avg_scores = map_to_range(avg_scores)\n",
        "\n",
        "# Plot bar graph of mapped average scores\n",
        "plt.figure(figsize=(8, 6))\n",
        "plt.bar(mapped_avg_scores.index, mapped_avg_scores.values, color='skyblue')\n",
        "plt.xlabel('Sentiment Label')\n",
        "plt.ylabel('Mapped Average Score (1-10)')\n",
        "plt.title('Average Sentiment Scores')\n",
        "plt.ylim(1, 10)\n",
        "plt.grid(axis='y')\n",
        "plt.show()\n"
      ],
      "metadata": {
        "id": "VtzqkPJ_Lp1X",
        "colab": {
          "base_uri": "https://localhost:8080/",
          "height": 564
        },
        "outputId": "5a43b0b5-e7a4-44b1-d527-f958aa19712d"
      },
      "execution_count": 22,
      "outputs": [
        {
          "output_type": "display_data",
          "data": {
            "text/plain": [
              "<Figure size 800x600 with 1 Axes>"
            ],
            "image/png": "[encoded data removed]"
          },
          "metadata": {}
        }
      ]
    }
  ],
  "metadata": {
    "colab": {
      "provenance": []
    },
    "kernelspec": {
      "display_name": "Python 3",
      "name": "python3"
    },
    "language_info": {
      "name": "python"
    }
  },
  "nbformat": 4,
  "nbformat_minor": 0
}